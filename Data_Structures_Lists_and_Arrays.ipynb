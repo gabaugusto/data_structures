{
 "cells": [
  {
   "cell_type": "markdown",
   "metadata": {},
   "source": [
    "# Data Structures: Lists and Array\n",
    "\n",
    "This is a list of contents I have compiling to use in classes. \n",
    "Fell free to share with others and improve. \n",
    "\n",
    "Everything below should begginers-friendly, ok?"
   ]
  },
  {
   "cell_type": "markdown",
   "metadata": {},
   "source": [
    "__Arrays and lists__\n",
    "\n",
    "Arrays and lists are both used in Python to store data, and to be honest, is common to see people calling both with the same name (don't do it). But they are not. They don't serve exactly the same purposes. They both can be used to store any data type (real numbers, strings, etc), and they both can be indexed and iterated through, but the similarities between the two don't go much further. The main difference between a list and an array is the functions that you can perform to them. For example, you can divide an array by 3, and each number in the array will be divided by 3 and the result will be printed if you request it. If you try to divide a list by 3, Python will tell you that it can't be done, and an error will be thrown.\n",
    "\n",
    "In Python, you have to import the array as it is not active, but if you have Python installed,  or you can use Numpy which is more cooler:"
   ]
  },
  {
   "cell_type": "code",
   "execution_count": 1,
   "metadata": {},
   "outputs": [],
   "source": [
    "import numpy as np "
   ]
  },
  {
   "cell_type": "markdown",
   "metadata": {},
   "source": [
    "Here's how it would work with an array: "
   ]
  },
  {
   "cell_type": "code",
   "execution_count": 2,
   "metadata": {},
   "outputs": [
    {
     "name": "stdout",
     "output_type": "stream",
     "text": [
      "[1. 2. 6.]\n"
     ]
    }
   ],
   "source": [
    "sample_array = np.array([5, 10, 30], dtype=float)\n",
    "\n",
    "sample_array = sample_array/5\n",
    "\n",
    "print(sample_array)"
   ]
  },
  {
   "cell_type": "markdown",
   "metadata": {},
   "source": [
    "If you tried to do the same with a list, you will raise an error:"
   ]
  },
  {
   "cell_type": "code",
   "execution_count": 3,
   "metadata": {},
   "outputs": [
    {
     "ename": "TypeError",
     "evalue": "unsupported operand type(s) for /: 'list' and 'int'",
     "output_type": "error",
     "traceback": [
      "\u001b[1;31m---------------------------------------------------------------------------\u001b[0m",
      "\u001b[1;31mTypeError\u001b[0m                                 Traceback (most recent call last)",
      "\u001b[1;32m<ipython-input-3-2d0e2f78780f>\u001b[0m in \u001b[0;36m<module>\u001b[1;34m\u001b[0m\n\u001b[0;32m      1\u001b[0m \u001b[0msample_list\u001b[0m \u001b[1;33m=\u001b[0m \u001b[1;33m[\u001b[0m\u001b[1;36m3\u001b[0m\u001b[1;33m,\u001b[0m \u001b[1;36m6\u001b[0m\u001b[1;33m,\u001b[0m \u001b[1;36m9\u001b[0m\u001b[1;33m,\u001b[0m \u001b[1;36m12\u001b[0m\u001b[1;33m]\u001b[0m\u001b[1;33m\u001b[0m\u001b[1;33m\u001b[0m\u001b[0m\n\u001b[0;32m      2\u001b[0m \u001b[1;33m\u001b[0m\u001b[0m\n\u001b[1;32m----> 3\u001b[1;33m \u001b[0msample_list\u001b[0m \u001b[1;33m=\u001b[0m \u001b[0msample_list\u001b[0m\u001b[1;33m/\u001b[0m\u001b[1;36m3\u001b[0m\u001b[1;33m\u001b[0m\u001b[1;33m\u001b[0m\u001b[0m\n\u001b[0m\u001b[0;32m      4\u001b[0m \u001b[1;33m\u001b[0m\u001b[0m\n\u001b[0;32m      5\u001b[0m \u001b[0mprint\u001b[0m\u001b[1;33m(\u001b[0m\u001b[0msample_list\u001b[0m\u001b[1;33m)\u001b[0m\u001b[1;33m\u001b[0m\u001b[1;33m\u001b[0m\u001b[0m\n",
      "\u001b[1;31mTypeError\u001b[0m: unsupported operand type(s) for /: 'list' and 'int'"
     ]
    }
   ],
   "source": [
    "sample_list = [3, 6, 9, 12]\n",
    "\n",
    "sample_list = sample_list/3\n",
    "\n",
    "print(sample_list)"
   ]
  },
  {
   "cell_type": "markdown",
   "metadata": {},
   "source": [
    "See the diference? \n",
    "Well... They are not the same, but they are not so diferentely. \n",
    "\n",
    "Be a\n",
    "\n",
    "Now... What we need to know about the Data Structures in both List and Arrays. \n",
    "\n",
    "Everything we will do here should work for both. "
   ]
  },
  {
   "cell_type": "markdown",
   "metadata": {},
   "source": [
    "## So... How are the biggest issues to deal with this guys?\n",
    "\n",
    "From now on I will try to solve some questions. \n",
    "\n",
    "__1. How do you find a missing number in a integer array of 1 to N?__\n",
    "\n",
    "This is veryuseful. \n",
    "At some point you will need to get a missing number in a sequence. This is how: "
   ]
  },
  {
   "cell_type": "code",
   "execution_count": 4,
   "metadata": {},
   "outputs": [
    {
     "name": "stdout",
     "output_type": "stream",
     "text": [
      "Missing elements  11.0\n"
     ]
    }
   ],
   "source": [
    "def get_missing_number(argument):\n",
    "    n = len(argument)\n",
    "    total = (n + 1)*(n + 2)/2\n",
    "    sum_of_argument = sum(argument)\n",
    "    return total - sum_of_argument\n",
    "\n",
    "sample_list = [1, 2, 3, 4, 5, 6, 7, 8, 9, 10, 12]\n",
    "missing_element = get_missing_number(sample_list)\n",
    "print('Missing elements ', missing_element)"
   ]
  },
  {
   "cell_type": "markdown",
   "metadata": {},
   "source": [
    "__2. In case you are looking to find multiple elements missing__\n",
    "\n",
    "This is veryuseful. \n",
    "At some point you will need to get a missing number in a sequence. This is how: "
   ]
  },
  {
   "cell_type": "code",
   "execution_count": 5,
   "metadata": {},
   "outputs": [
    {
     "name": "stdout",
     "output_type": "stream",
     "text": [
      "The original list : [3, 5, 6, 8, 10, 15]\n",
      "The list of missing elements : [0, 1, 2, 4, 7, 9, 11, 12, 13, 14]\n"
     ]
    }
   ],
   "source": [
    "def get_multiple_missing_numbers(argument_list):\n",
    "    res = [ele for ele in range(max(argument_list)+1) if ele not in argument_list] \n",
    "    print(\"The list of missing elements : \" + str(res)) \n",
    "\n",
    "sample_list = [3, 5, 6, 8, 10, 15] \n",
    "    \n",
    "print(\"The original list : \" + str(sample_list))     \n",
    "get_multiple_missing_numbers(sample_list)"
   ]
  },
  {
   "cell_type": "markdown",
   "metadata": {},
   "source": [
    "_Remember: both cases above we are starting from zero._\n",
    "\n",
    "__3. Remove duplicates from an array in place__"
   ]
  },
  {
   "cell_type": "markdown",
   "metadata": {},
   "source": [
    "This is kind of a cheat, but works: \n",
    "Create a dictionary, using the List items as keys. This will automatically remove any duplicates because dictionaries cannot have duplicate keys."
   ]
  },
  {
   "cell_type": "code",
   "execution_count": 6,
   "metadata": {},
   "outputs": [
    {
     "name": "stdout",
     "output_type": "stream",
     "text": [
      "['a', 'b', 'c']\n"
     ]
    }
   ],
   "source": [
    "def remove_duplicates(argument_list):\n",
    "      return list(dict.fromkeys(argument_list))\n",
    "    \n",
    "sample_list = remove_duplicates([\"a\", \"b\", \"a\", \"c\", \"c\"])\n",
    "\n",
    "sample_list = [\"a\", \"b\", \"a\", \"c\", \"c\"]\n",
    "sample_list = list(dict.fromkeys(sample_list))\n",
    "print(sample_list)"
   ]
  },
  {
   "cell_type": "markdown",
   "metadata": {},
   "source": [
    "__4. Find duplicates in a list, using 'set'__\n",
    "\n",
    "Pretty easy if you use set. "
   ]
  },
  {
   "cell_type": "code",
   "execution_count": 7,
   "metadata": {},
   "outputs": [
    {
     "data": {
      "text/plain": [
       "{1, 4, 5, 7, 'alpha', 'tango'}"
      ]
     },
     "execution_count": 7,
     "metadata": {},
     "output_type": "execute_result"
    }
   ],
   "source": [
    "def get_multiple_duplicates_elements(argument_list):\n",
    "    return set([x for x in argument_list if argument_list.count(x) > 1])\n",
    "    \n",
    "sample_list = ['alpha', 1, 2, 'bravo', 'alpha', 3, 4, 4, 'tango', 'tango',  5, 5, 6,  'element', 1, 7, 7]\n",
    "get_multiple_duplicates_elements(sample_list)"
   ]
  },
  {
   "cell_type": "markdown",
   "metadata": {},
   "source": [
    "__5. Sort a List__\n",
    "\n",
    "This is pretty straightforward: you need to put something in order. "
   ]
  },
  {
   "cell_type": "code",
   "execution_count": 8,
   "metadata": {},
   "outputs": [
    {
     "name": "stdout",
     "output_type": "stream",
     "text": [
      "[0, 1, 1, 1, 2, 3, 5, 5, 7, 9]\n"
     ]
    }
   ],
   "source": [
    "sample_list = [1, 0, 5, 7, 9, 5, 2, 1, 3, 1]\n",
    "\n",
    "def sort_list(target_list):\n",
    "    for index in range (1, len(target_list)):\n",
    "        current = target_list[index]\n",
    "        position = index\n",
    "        \n",
    "        while position > 0 and target_list[position-1] > current: \n",
    "            target_list[position] = target_list[position-1]\n",
    "            position -= 1\n",
    "        \n",
    "        target_list[position] = current\n",
    "    \n",
    "    return  target_list\n",
    "        \n",
    "print(sort_list(sample_list))"
   ]
  },
  {
   "cell_type": "markdown",
   "metadata": {},
   "source": [
    "Sort an array is the same thing. "
   ]
  },
  {
   "cell_type": "code",
   "execution_count": 9,
   "metadata": {},
   "outputs": [
    {
     "name": "stdout",
     "output_type": "stream",
     "text": [
      "[0. 1. 1. 1. 2. 3. 5. 5. 7. 9.]\n"
     ]
    }
   ],
   "source": [
    "unsorted_array = np.array([1, 0, 5, 7, 9, 5, 2, 1, 3, 1], dtype=float)\n",
    "\n",
    "def sort_list(target_list):\n",
    "    for index in range (1, len(target_list)):\n",
    "        current = target_list[index]\n",
    "        position = index\n",
    "        \n",
    "        while position > 0 and target_list[position-1] > current: \n",
    "            target_list[position] = target_list[position-1]\n",
    "            position -= 1\n",
    "        \n",
    "        target_list[position] = current\n",
    "    \n",
    "    return  target_list\n",
    "        \n",
    "print(sort_list(unsorted_array))"
   ]
  },
  {
   "cell_type": "markdown",
   "metadata": {},
   "source": [
    "So. \n",
    "\n",
    "Lastly. \n",
    "\n",
    "Finally. \n",
    "\n",
    "For me, the most tricky one: \n",
    "\n",
    "__6. Find all pair of an integer array whose sum is equal to a given number__"
   ]
  },
  {
   "cell_type": "markdown",
   "metadata": {},
   "source": [
    "This one is very hard. Not to do, but to realize. \n",
    "\n",
    "Imagine you have a list of numeric elements. Someone give you a number and you need to know if there two numbers in yout list that, together, will give you that exact number. \n",
    "\n",
    "If this in the problem, you have many solutions: 1) choose one number and see if any other matches; 2) sum all numbers and see if there are any matches; 3) Compare the first with the last, and so on... \n",
    "\n",
    "The best solution to this (for me) was design in this page: https://www.w3resource.com/python-exercises/class-exercises/python-class-exercise-5.php\n",
    "        \n",
    "Here is their solution:"
   ]
  },
  {
   "cell_type": "code",
   "execution_count": 10,
   "metadata": {},
   "outputs": [
    {
     "name": "stdout",
     "output_type": "stream",
     "text": [
      "index1=3, index2=5\n"
     ]
    }
   ],
   "source": [
    "class py_solution:\n",
    "    def twoSum(self, nums, target):\n",
    "        lookup = {}\n",
    "        for i, num in enumerate(nums):\n",
    "            if target - num in lookup:\n",
    "                return (lookup[target - num], i )\n",
    "            lookup[num] = i\n",
    "            \n",
    "print(\"index1=%d, index2=%d\" % py_solution().twoSum((10,20,10,40,50,60,70),100))"
   ]
  },
  {
   "cell_type": "markdown",
   "metadata": {},
   "source": [
    "The basic solution is: you put in a basket every number that is lower than the target and check them. Simple, right? \n",
    "\n",
    "But if you give a number that don't have a match?\n",
    "\n",
    "Try it and see what happens. \n",
    "\n",
    "Another solution that i like most is this one: https://cppsecrets.com/users/859710057545452565764103109971051084699111109/Python-program-to-find-all-pairs-of-an-integer-array-whose-sum-is-equal-to-a-given-number.php\n",
    "\n",
    "I made few adjustments for readability:"
   ]
  },
  {
   "cell_type": "code",
   "execution_count": null,
   "metadata": {},
   "outputs": [],
   "source": [
    "class Pairs():\n",
    "\n",
    "    #constructor\n",
    "    def __init__(self, sum, n, arr ):\n",
    "        self.sum = sum\n",
    "        self.n = n\n",
    "        self.arr = arr\n",
    "        \n",
    "    #function finds the pairs for the passed array\n",
    "    def find_pairs(self):\n",
    "        \n",
    "        #loop to print the pairs\n",
    "        #after checking\n",
    "        for i in range(0, self.n):\n",
    "            for j in range(i+1, self.n):\n",
    "                if (self.arr[i] + self.arr[j] == self.sum):\n",
    "                    #returns pairs in array from 0  to n-1\n",
    "                    print(\"(\", self.arr[i], \",\", \" \", self.arr[j], \")\", sep = \"\")\n",
    "\n",
    "def find_pairs_to_a_number(argument_list):\n",
    "    sum = int(input(\"Enter the sum for array elements: \"))\n",
    "\n",
    "    #\"n\" contains the length of array\n",
    "    n = len(argument_list)\n",
    "    #sum, n, and arr is passed to \n",
    "    obj_Pairs = Pairs(sum, n, argument_list)\n",
    "    obj_Pairs.find_pairs()\n",
    "\n",
    "sample_list = [1, 0, 5, 7, 9, 5, 2, 1, 3, 1, 1, 5, 7, -1, 5, 4, 6, 8]\n",
    "\n",
    "find_pairs_to_a_number(sample_list)"
   ]
  },
  {
   "cell_type": "markdown",
   "metadata": {},
   "source": [
    "Pretty cool, huh? \n",
    "\n",
    "And that is it for now. \n",
    "\n",
    "I try compile the best solutions. Some stuff i did think was not that great, and there are better solution for _for your case_ out there. \n",
    "\n",
    "I will certainly improve this so keep checking back.\n",
    "\n",
    "Try to keep your code simple, try to drink more water and keep studing. \n",
    "\n",
    "__Thanks for reading.__"
   ]
  }
 ],
 "metadata": {
  "kernelspec": {
   "display_name": "Python 3",
   "language": "python",
   "name": "python3"
  },
  "language_info": {
   "codemirror_mode": {
    "name": "ipython",
    "version": 3
   },
   "file_extension": ".py",
   "mimetype": "text/x-python",
   "name": "python",
   "nbconvert_exporter": "python",
   "pygments_lexer": "ipython3",
   "version": "3.8.3"
  }
 },
 "nbformat": 4,
 "nbformat_minor": 4
}
