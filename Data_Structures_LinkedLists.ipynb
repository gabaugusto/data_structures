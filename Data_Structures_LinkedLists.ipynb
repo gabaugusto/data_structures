{
 "cells": [
  {
   "cell_type": "markdown",
   "metadata": {},
   "source": [
    "# Python Data Structures: Linked Lists\n",
    "\n",
    "_This is a list of contents I have compiling to use in classes._\n",
    "_Fell free to share with others and improve._\n",
    "\n",
    "Everything below should begginers-friendly, ok?\n"
   ]
  },
  {
   "cell_type": "markdown",
   "metadata": {},
   "source": [
    "## About Data Structures\n",
    "    \n",
    "A data strucuture is a particular way of organization data in a program so that can be used effectively. \n",
    "\n",
    "One aproach is store a list of a itens having the same data-type using the array data structure. \n",
    "\n",
    "Linked Lists and Arrays are Linear forms of Data Strucuture. The other forms are Tree, Hash and Graphs. "
   ]
  },
  {
   "cell_type": "markdown",
   "metadata": {},
   "source": [
    "## _What are Linked Lists_\n",
    "\n",
    "The simple and short way to say it: Linked lists are an ordered collection of objects.\n",
    "Like a list of days of the week or months in a year or even Pokemons in a team. \n",
    "\n",
    "Lists where something is followed by other thing and maybe preceded for another thing... Any list ordered list where one thing leads us to another thing.\n",
    "\n",
    "And that is it. \n",
    "\n",
    "But lets take a step back and try to understand \n",
    "Before going more in depth on what linked lists are and how you can use them, you should first learn how they are structured. Each element of a linked list is called a node, and every node has two different fields:\n",
    "\n",
    "__Practical Applications__\n",
    "\n",
    "Linked lists serve a variety of purposes in the real world. They can be used to implement (spoiler alert!) queues or stacks as well as graphs. They’re also useful for much more complex tasks, such as lifecycle management for an operating system application.\n",
    "\n",
    "Try to think about a sequence of operations that need to be executed in line. \n",
    "\n",
    "Someone needs to do something delicate like a dinner. \n",
    "\n",
    "1. Buy the ingredientes, Next step.<br>\n",
    "2. Check if the ove is ok, Next step.<br> \n",
    "3. Put the main plate in the ove, Next step.<br>\n",
    "4. Boil the water. Next step.<br>\n",
    "5. Prepare the rice. Next step. <br>\n",
    "6. Open the wine<br>\n",
    "7. Serve the dinner.<br> \n",
    "\n",
    "This is just a example, but I think I made my point.\n"
   ]
  },
  {
   "cell_type": "markdown",
   "metadata": {},
   "source": [
    "Ok. \n",
    "\n",
    "Now lets put our hands in code. \n",
    "\n",
    "The first thing here, is that we will create a Class to manage our linked lists. \n"
   ]
  },
  {
   "cell_type": "code",
   "execution_count": 1,
   "metadata": {},
   "outputs": [],
   "source": [
    "# Node class \n",
    "class Node: \n",
    "    # Function to initialise the node object \n",
    "    def __init__(self, data): \n",
    "        self.data = data # Assign data \n",
    "        self.next = None # Initialize next as null "
   ]
  },
  {
   "cell_type": "markdown",
   "metadata": {},
   "source": []
  },
  {
   "cell_type": "code",
   "execution_count": 2,
   "metadata": {},
   "outputs": [],
   "source": [
    "# Linked List class contains a Node object \n",
    "class LinkedList: \n",
    "\n",
    "    # Function to initialize head \n",
    "    def __init__(self): \n",
    "        self.head = None\n",
    "\n",
    "    def push(self, new_data): \n",
    "        # 1 & 2: Allocate the Node & Put in the data \n",
    "        new_node = Node(new_data) \n",
    "\n",
    "        # 3. Make next of new Node as head \n",
    "        new_node.next = self.head \n",
    "\n",
    "        # 4. Move the head to point to new Node \n",
    "        self.head = new_node \n",
    "        \n",
    "    def printNthFromLast(self, n): \n",
    "        temp = self.head # used temp variable \n",
    "\n",
    "        length = 0\n",
    "        while temp is not None: \n",
    "            temp = temp.next\n",
    "            length += 1\n",
    "\n",
    "        # print count  \n",
    "        if n > length: # if entered location is greater than length of linked list \n",
    "            print('Location is greater than the' + ' length of LinkedList') \n",
    "            return\n",
    "        \n",
    "        temp = self.head \n",
    "        for i in range(0, length - n): \n",
    "            temp = temp.next\n",
    "        #print(temp.data)\n",
    "\n",
    "    # Returns data at given index in linked list \n",
    "    def getNth(self, index): \n",
    "        current = self.head # Initialise temp \n",
    "        count = 0 # Index of current node \n",
    "\n",
    "        # Loop while end of linked list is not reached \n",
    "        while (current): \n",
    "            if (count == index): \n",
    "                return current.data \n",
    "            count += 1\n",
    "            current = current.next\n",
    "\n",
    "        # if we get to this line, the caller was asking for a non-existent element so we assert fail \n",
    "        assert(False) \n",
    "        return 0; \n",
    "\n"
   ]
  },
  {
   "cell_type": "markdown",
   "metadata": {},
   "source": []
  },
  {
   "cell_type": "code",
   "execution_count": 5,
   "metadata": {},
   "outputs": [
    {
     "name": "stdout",
     "output_type": "stream",
     "text": [
      "choose a number between 0 and 7: 5\n",
      "List of days:  <__main__.Node object at 0x06202B20>\n",
      "The day you choose is at position : 2\n",
      "printNthFromLast : None\n"
     ]
    }
   ],
   "source": [
    "\n",
    "llist = LinkedList() \n",
    "\n",
    "# Use push() to construct below list \n",
    "# llist.push('Dimanche') \n",
    "# llist.push('Lundi') \n",
    "# llist.push('Mardi')\n",
    "# llist.push('Mercredi') \n",
    "# llist.push('Jeudi')  \n",
    "# llist.push('Vendredi')  \n",
    "# llist.push('Samedi')  \n",
    "\n",
    "llist.push(1) \n",
    "llist.push(2) \n",
    "llist.push(3)\n",
    "llist.push(4) \n",
    "llist.push(5)  \n",
    "llist.push(6)  \n",
    "llist.push(7) \n",
    "\n",
    "#Choose a day \n",
    "def pick_a_day():\n",
    "    day = int(input(\"choose a number between 0 and 7: \"))\n",
    "    print('List of days: ', llist.head)\n",
    "    print (\"The day you choose is at position :\", llist.getNth(day)) \n",
    "    print (\"printNthFromLast :\", llist.printNthFromLast(day))\n",
    "\n",
    "\n",
    "pick_a_day()"
   ]
  },
  {
   "cell_type": "markdown",
   "metadata": {},
   "source": [
    "\n",
    "\n",
    "\n",
    "Pretty cool, huh? \n",
    "\n",
    "And that is it for now. \n",
    "\n",
    "I try compile the best solutions. Some stuff i did think was not that great, and there are better solution for _for your case_ out there. \n",
    "\n",
    "I will certainly improve this so keep checking back.\n",
    "\n",
    "Try to keep your code simple, try to drink more water and keep studing. \n",
    "\n",
    "__Thanks for reading.__"
   ]
  }
 ],
 "metadata": {
  "kernelspec": {
   "display_name": "Python 3",
   "language": "python",
   "name": "python3"
  },
  "language_info": {
   "codemirror_mode": {
    "name": "ipython",
    "version": 3
   },
   "file_extension": ".py",
   "mimetype": "text/x-python",
   "name": "python",
   "nbconvert_exporter": "python",
   "pygments_lexer": "ipython3",
   "version": "3.8.3"
  }
 },
 "nbformat": 4,
 "nbformat_minor": 4
}
