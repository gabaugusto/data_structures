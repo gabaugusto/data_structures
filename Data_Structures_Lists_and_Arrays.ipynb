{
 "cells": [
  {
   "cell_type": "markdown",
   "metadata": {},
   "source": [
    "# Python Data Structures: Lists (and Arrays)\n",
    "\n",
    "_This is a list of contents I have compiling to use in classes._\n",
    "\n",
    "_Fell free to share with others and improve._\n",
    "\n",
    "__Important:__ In this page we talk about the Pythons Lists, not Linked Lists. Linked Lists are available in this repository in another file.\n",
    "\n",
    "__Important too:__ The purpose of this page is not to teach you the basics, but teach you how to deal with some questions that we have seen along the time. \n",
    "\n",
    "Everything below should begginers-friendly, ok?"
   ]
  },
  {
   "cell_type": "markdown",
   "metadata": {},
   "source": [
    "## About Data Structures\n",
    "    \n",
    "A data strucuture is a particular way of organization data in a program so that can be used effectively. \n",
    "\n",
    "One aproach is store a list of a itens having the same data-type using the array data structure. \n",
    "    \n",
    "__Arrays__ and __Linked Lists__ are Linear forms of Data Strucuture. The other forms are Tree, Hash and Graphs. \n",
    "\n",
    "__Arrays__ are data structures that contains a group of indexed items. The elements don't be of the same type (no need to be only numbers or only strings)."
   ]
  },
  {
   "cell_type": "markdown",
   "metadata": {},
   "source": [
    "## __Arrays and Python Lists__\n",
    "\n",
    "Arrays and lists are both used in Python to store data, and to be honest, is common to see people calling both with the same name (don't do it!). They are not. They don't serve exactly the same purposes. They both can be used to store any data type (real numbers, strings, etc), and they both can be indexed and iterated through, but the similarities between the two don't go much further. The main difference between a list and an array is the functions that you can perform to them. For example, you can divide an array by 3, and each number in the array will be divided by 3 and the result will be printed if you request it. If you try to divide a list by 3, Python will tell you that it can't be done, and an error will be thrown. Look the codes below. \n",
    "\n",
    "In Python, you have to import the array as it is not active, but if you have Python installed,  or you can use Numpy which is waaay more cooler:"
   ]
  },
  {
   "cell_type": "code",
   "execution_count": 1,
   "metadata": {},
   "outputs": [],
   "source": [
    "import numpy as np "
   ]
  },
  {
   "cell_type": "markdown",
   "metadata": {},
   "source": [
    "Here's how it would work with an array: "
   ]
  },
  {
   "cell_type": "code",
   "execution_count": 2,
   "metadata": {
    "tags": []
   },
   "outputs": [
    {
     "output_type": "stream",
     "name": "stdout",
     "text": "Output [1. 2. 6.]\n"
    }
   ],
   "source": [
    "sample_array = np.array([5, 10, 30], dtype=float)\n",
    "\n",
    "sample_array = sample_array/5\n",
    "\n",
    "print('Output', sample_array)"
   ]
  },
  {
   "cell_type": "markdown",
   "metadata": {},
   "source": [
    "If you tried to do the same with a list, you will raise an error:"
   ]
  },
  {
   "cell_type": "code",
   "execution_count": 3,
   "metadata": {},
   "outputs": [
    {
     "output_type": "error",
     "ename": "TypeError",
     "evalue": "unsupported operand type(s) for /: 'list' and 'int'",
     "traceback": [
      "\u001b[1;31m---------------------------------------------------------------------------\u001b[0m",
      "\u001b[1;31mTypeError\u001b[0m                                 Traceback (most recent call last)",
      "\u001b[1;32m<ipython-input-3-d1c78896b94d>\u001b[0m in \u001b[0;36m<module>\u001b[1;34m\u001b[0m\n\u001b[0;32m      1\u001b[0m \u001b[0msample_list\u001b[0m \u001b[1;33m=\u001b[0m \u001b[1;33m[\u001b[0m\u001b[1;36m3\u001b[0m\u001b[1;33m,\u001b[0m \u001b[1;36m6\u001b[0m\u001b[1;33m,\u001b[0m \u001b[1;36m9\u001b[0m\u001b[1;33m,\u001b[0m \u001b[1;36m12\u001b[0m\u001b[1;33m]\u001b[0m\u001b[1;33m\u001b[0m\u001b[1;33m\u001b[0m\u001b[0m\n\u001b[0;32m      2\u001b[0m \u001b[1;33m\u001b[0m\u001b[0m\n\u001b[1;32m----> 3\u001b[1;33m \u001b[0msample_list\u001b[0m \u001b[1;33m=\u001b[0m \u001b[0msample_list\u001b[0m\u001b[1;33m/\u001b[0m\u001b[1;36m3\u001b[0m\u001b[1;33m\u001b[0m\u001b[1;33m\u001b[0m\u001b[0m\n\u001b[0m\u001b[0;32m      4\u001b[0m \u001b[1;33m\u001b[0m\u001b[0m\n\u001b[0;32m      5\u001b[0m \u001b[0mprint\u001b[0m\u001b[1;33m(\u001b[0m\u001b[1;34m'Output'\u001b[0m\u001b[1;33m,\u001b[0m \u001b[0msample_list\u001b[0m\u001b[1;33m)\u001b[0m\u001b[1;33m\u001b[0m\u001b[1;33m\u001b[0m\u001b[0m\n",
      "\u001b[1;31mTypeError\u001b[0m: unsupported operand type(s) for /: 'list' and 'int'"
     ]
    }
   ],
   "source": [
    "sample_list = [3, 6, 9, 12]\n",
    "\n",
    "sample_list = sample_list/3\n",
    "\n",
    "print('Output', sample_list)"
   ]
  },
  {
   "cell_type": "markdown",
   "metadata": {},
   "source": [
    "See the diference? \n",
    "\n",
    "Well... They are not the same, but they are not so diferentely either. \n",
    "\n",
    "Be aware of this and keep reading. \n",
    "\n",
    "Now... What we need to know about the Data Structures in both List and Arrays. \n",
    "\n",
    "Everything we will do here should work for both with few adjustemens.\n",
    "\n",
    "## Main functions and methods. \n",
    "\n",
    "### __insert()__\n",
    "\n",
    "Description: \n",
    "\n",
    "Inserts an element at the __specified__ index. \n",
    "\n",
    "Example:"
   ]
  },
  {
   "cell_type": "code",
   "execution_count": 4,
   "metadata": {
    "tags": []
   },
   "outputs": [
    {
     "output_type": "stream",
     "name": "stdout",
     "text": "Output [3, 6, 9, 5, 12]\n"
    }
   ],
   "source": [
    "sample_list = [3, 6, 9, 12]\n",
    "sample_list.insert(3, 5)\n",
    "print('Output', sample_list)"
   ]
  },
  {
   "cell_type": "markdown",
   "metadata": {},
   "source": [
    "### __append()__\n",
    "\n",
    "Description: \n",
    "\n",
    "Inserts an element at the __end__ of the list. \n",
    "\n",
    "Example:"
   ]
  },
  {
   "cell_type": "code",
   "execution_count": 5,
   "metadata": {
    "tags": []
   },
   "outputs": [
    {
     "output_type": "stream",
     "name": "stdout",
     "text": "Output [3, 6, 9, 12, 'mango']\n"
    }
   ],
   "source": [
    "sample_list = [3, 6, 9, 12]\n",
    "sample_list.append('mango')\n",
    "print('Output', sample_list)"
   ]
  },
  {
   "cell_type": "markdown",
   "metadata": {},
   "source": [
    "### __remove()__\n",
    "\n",
    "Description: \n",
    "\n",
    "Remove an element with the specified __value__\n",
    "\n",
    "Syntax:"
   ]
  },
  {
   "cell_type": "code",
   "execution_count": 6,
   "metadata": {
    "tags": []
   },
   "outputs": [
    {
     "output_type": "stream",
     "name": "stdout",
     "text": "Output [3, 6, 12]\n"
    }
   ],
   "source": [
    "sample_list = [3, 6, 9, 12]\n",
    "sample_list.remove(9)\n",
    "print('Output', sample_list)"
   ]
  },
  {
   "cell_type": "markdown",
   "metadata": {},
   "source": [
    "### __pop()__\n",
    "\n",
    "Description: \n",
    "\n",
    "Remove an element in the specified __index__\n",
    "\n",
    "Syntax:"
   ]
  },
  {
   "cell_type": "code",
   "execution_count": 7,
   "metadata": {
    "tags": []
   },
   "outputs": [
    {
     "output_type": "stream",
     "name": "stdout",
     "text": "Output [6, 9, 12]\n"
    }
   ],
   "source": [
    "sample_list = [3, 6, 9, 12]\n",
    "sample_list.pop(0)\n",
    "print('Output', sample_list)"
   ]
  },
  {
   "cell_type": "markdown",
   "metadata": {},
   "source": [
    "### __count()__\n",
    "\n",
    "Description: \n",
    "\n",
    "Counts the elements with the specified __value__.\n",
    "\n",
    "Very useful with large lists and duplicates\n",
    "\n",
    "Syntax:"
   ]
  },
  {
   "cell_type": "code",
   "execution_count": 8,
   "metadata": {
    "tags": []
   },
   "outputs": [
    {
     "output_type": "stream",
     "name": "stdout",
     "text": "How many mangos? 2\n"
    }
   ],
   "source": [
    "sample_list = ['mango', 'lime', 'mango', 'orange']\n",
    "print('How many mangos?', sample_list.count('mango'))"
   ]
  },
  {
   "cell_type": "markdown",
   "metadata": {},
   "source": [
    "### __reverse()__\n",
    "\n",
    "Description: \n",
    "\n",
    "Reverses the list. Pretty simple. \n",
    "\n",
    "Syntax:"
   ]
  },
  {
   "cell_type": "code",
   "execution_count": 9,
   "metadata": {
    "tags": []
   },
   "outputs": [
    {
     "output_type": "stream",
     "name": "stdout",
     "text": "Reversed list:  [42, 23, 16, 15, 8, 4]\n"
    }
   ],
   "source": [
    "sample_list = [4, 8, 15, 16, 23, 42]\n",
    "sample_list.reverse()\n",
    "print('Reversed list: ', sample_list)"
   ]
  },
  {
   "cell_type": "markdown",
   "metadata": {},
   "source": [
    "### __sort()__\n",
    "\n",
    "Description: \n",
    "\n",
    "Order/Sort the list __value__.\n",
    "\n",
    "Syntax:\n",
    "\n",
    "_sample_list.sort(reverse=False|True, key=func)_"
   ]
  },
  {
   "cell_type": "code",
   "execution_count": 10,
   "metadata": {
    "tags": []
   },
   "outputs": [
    {
     "output_type": "stream",
     "name": "stdout",
     "text": "Sorted list [4, 8, 15, 16, 23, 42]\n"
    }
   ],
   "source": [
    "sample_list = [42, 4, 15, 8, 23, 16]\n",
    "sample_list.sort(reverse=False) # or sort(reverse=True)\n",
    "print('Sorted list', sample_list)"
   ]
  },
  {
   "cell_type": "code",
   "execution_count": 11,
   "metadata": {
    "tags": []
   },
   "outputs": [
    {
     "output_type": "stream",
     "name": "stdout",
     "text": "Heros dictionary sorted by power [{'name': 'Bruce Wayne', 'power': 70, 'speed': 70}, {'name': 'Diana Prince', 'power': 100, 'speed': 60}, {'name': 'Elizabeth Braddock', 'power': 110, 'speed': 100}, {'name': 'Ororo Munroe', 'power': 125, 'speed': 70}]\n"
    }
   ],
   "source": [
    "#creating a dictionary\n",
    "heros = [\n",
    "    {'name': 'Ororo Munroe', 'power': 125, 'speed': 70},    \n",
    "    {'name': 'Diana Prince', 'power': 100, 'speed': 60},\n",
    "    {'name': 'Elizabeth Braddock', 'power': 110, 'speed': 100},\n",
    "    {'name': 'Bruce Wayne', 'power': 70, 'speed': 70}\n",
    "]\n",
    "\n",
    "heros.sort(key=lambda heros:heros['power'])\n",
    "print('Heros dictionary sorted by power', heros)"
   ]
  },
  {
   "cell_type": "code",
   "execution_count": 12,
   "metadata": {
    "tags": []
   },
   "outputs": [
    {
     "output_type": "stream",
     "name": "stdout",
     "text": "Heros dictionary sorted by speed [{'name': 'Diana Prince', 'power': 100, 'speed': 60}, {'name': 'Bruce Wayne', 'power': 70, 'speed': 70}, {'name': 'Ororo Munroe', 'power': 125, 'speed': 70}, {'name': 'Elizabeth Braddock', 'power': 110, 'speed': 100}]\n"
    }
   ],
   "source": [
    "heros.sort(key=lambda heros:heros['speed'])\n",
    "print('Heros dictionary sorted by speed', heros)"
   ]
  },
  {
   "cell_type": "markdown",
   "metadata": {},
   "source": [
    "### __index()__\n",
    "\n",
    "Description: \n",
    "\n",
    "Returns the __index of the first__ element with the specified __value__.\n",
    "\n",
    "Syntax:"
   ]
  },
  {
   "cell_type": "code",
   "execution_count": 13,
   "metadata": {
    "tags": []
   },
   "outputs": [
    {
     "output_type": "stream",
     "name": "stdout",
     "text": "The first number 8 is at position:  1\n"
    }
   ],
   "source": [
    "sample_list = [4, 8, 15, 16, 23, 42, 4, 8, 15, 16, 23, 42]\n",
    "print('The first number 8 is at position: ', sample_list.index(8))"
   ]
  },
  {
   "cell_type": "markdown",
   "metadata": {},
   "source": [
    "### __extend()__\n",
    "\n",
    "Description: \n",
    "\n",
    "Inserts the elements of the specified iterable at the end.\n",
    "\n",
    "Syntax:"
   ]
  },
  {
   "cell_type": "code",
   "execution_count": 14,
   "metadata": {
    "tags": []
   },
   "outputs": [
    {
     "output_type": "stream",
     "name": "stdout",
     "text": "Output [4, 8, 15, 16, 23, 42, 14, 18, 115, 116, 123, 142]\n"
    }
   ],
   "source": [
    "sample_list = [4, 8, 15, 16, 23, 42]\n",
    "\n",
    "another_list = [14, 18, 115, 116, 123, 142]\n",
    "\n",
    "sample_list.extend(another_list)\n",
    "\n",
    "print('Output', sample_list)"
   ]
  },
  {
   "cell_type": "markdown",
   "metadata": {},
   "source": [
    "### __copy()__\n",
    "\n",
    "Description: \n",
    "\n",
    "Copies the list\n",
    "\n",
    "Very useful with large lists and duplicates\n",
    "\n",
    "Syntax:"
   ]
  },
  {
   "cell_type": "code",
   "execution_count": 15,
   "metadata": {
    "tags": []
   },
   "outputs": [
    {
     "output_type": "stream",
     "name": "stdout",
     "text": "Output [4, 8, 15, 16, 23, 42]\n"
    }
   ],
   "source": [
    "sample_list = []\n",
    "\n",
    "another_list = [4, 8, 15, 16, 23, 42]\n",
    "\n",
    "sample_list = another_list.copy()\n",
    "\n",
    "print('Output', sample_list)"
   ]
  },
  {
   "cell_type": "markdown",
   "metadata": {},
   "source": [
    "### __clear()__\n",
    "\n",
    "Description: \n",
    "\n",
    "Counts the elements with the specified __value__.\n",
    "\n",
    "Very useful with large lists and duplicates\n",
    "\n",
    "Syntax:"
   ]
  },
  {
   "cell_type": "code",
   "execution_count": 16,
   "metadata": {
    "tags": []
   },
   "outputs": [
    {
     "output_type": "stream",
     "name": "stdout",
     "text": "Output []\n"
    }
   ],
   "source": [
    "sample_list = [4, 8, 15, 16, 23, 42]\n",
    "\n",
    "sample_list.clear()\n",
    "\n",
    "print('Output', sample_list)"
   ]
  },
  {
   "cell_type": "markdown",
   "metadata": {},
   "source": [
    "# Union, Intersection and Difference\n",
    "\n",
    "At some point, you will need to work with multiples lists. \n",
    "\n",
    "## Union \n",
    "\n",
    "You put together two lists"
   ]
  },
  {
   "cell_type": "code",
   "execution_count": 30,
   "metadata": {
    "tags": []
   },
   "outputs": [
    {
     "output_type": "stream",
     "name": "stdout",
     "text": "{4, 5, 8, 9, 42, 43, 15, 16, 17, 23, 24}\n"
    }
   ],
   "source": [
    "def union_lists(argument_list_01, argument_list_02):\n",
    "    union = set()\n",
    "    for elem in argument_list_01:\n",
    "        union.add(elem)\n",
    "    for elem in argument_list_02:\n",
    "        union.add(elem)\n",
    "    return union\n",
    "\n",
    "sample_list = [4, 8, 15, 16, 23, 42]\n",
    "another_list = [5, 9, 16, 17, 24, 43]\n",
    "\n",
    "print(union_lists(sample_list, another_list))\n"
   ]
  },
  {
   "cell_type": "markdown",
   "metadata": {},
   "source": [
    "## Intersection\n",
    "\n",
    "You can get only the elements that exist in __both the lists__"
   ]
  },
  {
   "cell_type": "code",
   "execution_count": null,
   "metadata": {},
   "outputs": [],
   "source": [
    "\n",
    "def intersection_lists(argument_list_01, argument_list_02):\n",
    "    set1 = set(argument_list_01)\n",
    "    intersection = set()\n",
    "    for elem in argument_list_02:\n",
    "        if elem in set1:\n",
    "            intersection.add(elem)\n",
    "    return intersection\n",
    "\n",
    "sample_list = [4, 8, 15, 16, 23, 42]\n",
    "another_list = [5, 9, 16, 17, 24, 43]\n",
    "\n",
    "print(intersection_lists(sample_list, another_list))\n"
   ]
  },
  {
   "cell_type": "markdown",
   "metadata": {},
   "source": [
    "## Difference\n",
    "\n",
    "You can get only the elements that exists in one list, __but not in another__"
   ]
  },
  {
   "cell_type": "code",
   "execution_count": 32,
   "metadata": {
    "tags": []
   },
   "outputs": [
    {
     "output_type": "stream",
     "name": "stdout",
     "text": "{4, 8, 42, 15, 23}\n"
    }
   ],
   "source": [
    "\n",
    "def difference_lists(argument_list_01, argument_list_02):\n",
    "    set1 = set(argument_list_02)\n",
    "    difference = set()\n",
    "    for elem in argument_list_01:\n",
    "        if elem not in set1:\n",
    "            difference.add(elem)\n",
    "    return difference\n",
    "\n",
    "sample_list = [4, 8, 15, 16, 23, 42]\n",
    "another_list = [5, 9, 16, 17, 24, 43]\n",
    "\n",
    "print(difference_lists(sample_list, another_list))"
   ]
  },
  {
   "cell_type": "markdown",
   "metadata": {},
   "source": [
    "## So... How are the biggest issues to deal with this guys?\n",
    "\n",
    "From now on I will try to solve some questions that I have seem in interviews. \n",
    "\n",
    "__1. How do you find a missing number in a integer array of 1 to N?__\n",
    "\n",
    "This is veryuseful. \n",
    "At some point you will need to get a missing number in a sequence. This is how: "
   ]
  },
  {
   "cell_type": "code",
   "execution_count": 17,
   "metadata": {
    "tags": []
   },
   "outputs": [
    {
     "output_type": "stream",
     "name": "stdout",
     "text": "Missing elements  11.0\n"
    }
   ],
   "source": [
    "def get_missing_number(argument):\n",
    "    n = len(argument)\n",
    "    total = (n + 1)*(n + 2)/2\n",
    "    sum_of_argument = sum(argument)\n",
    "    return total - sum_of_argument\n",
    "\n",
    "sample_list = [1, 2, 3, 4, 5, 6, 7, 8, 9, 10, 12]\n",
    "missing_element = get_missing_number(sample_list)\n",
    "print('Missing elements ', missing_element)"
   ]
  },
  {
   "cell_type": "markdown",
   "metadata": {},
   "source": [
    "__2. In case you are looking to find multiple elements missing__\n",
    "\n",
    "This time there are multiples missing itens"
   ]
  },
  {
   "cell_type": "code",
   "execution_count": 18,
   "metadata": {
    "tags": []
   },
   "outputs": [
    {
     "output_type": "stream",
     "name": "stdout",
     "text": "The original list : [3, 5, 6, 8, 10, 15]\nThe list of missing elements : [0, 1, 2, 4, 7, 9, 11, 12, 13, 14]\n"
    }
   ],
   "source": [
    "def get_multiple_missing_numbers(argument_list):\n",
    "    res = [ele for ele in range(max(argument_list)+1) if ele not in argument_list] \n",
    "    print(\"The list of missing elements : \" + str(res)) \n",
    "\n",
    "sample_list = [3, 5, 6, 8, 10, 15] \n",
    "    \n",
    "print(\"The original list : \" + str(sample_list))     \n",
    "get_multiple_missing_numbers(sample_list)"
   ]
  },
  {
   "cell_type": "markdown",
   "metadata": {},
   "source": [
    "_Remember: both cases above we are starting from zero._\n",
    "\n",
    "__3. Remove duplicates from an array in place__"
   ]
  },
  {
   "cell_type": "markdown",
   "metadata": {},
   "source": [
    "This is kind of a cheat, but works: \n",
    "Create a dictionary, using the List items as keys. This will automatically remove any duplicates because dictionaries cannot have duplicate keys."
   ]
  },
  {
   "cell_type": "code",
   "execution_count": 19,
   "metadata": {
    "tags": []
   },
   "outputs": [
    {
     "output_type": "stream",
     "name": "stdout",
     "text": "['a', 'b', 'c']\n"
    }
   ],
   "source": [
    "def remove_duplicates(argument_list):\n",
    "      return list(dict.fromkeys(argument_list))\n",
    "    \n",
    "sample_list = remove_duplicates([\"a\", \"b\", \"a\", \"c\", \"c\"])\n",
    "\n",
    "sample_list = [\"a\", \"b\", \"a\", \"c\", \"c\"]\n",
    "sample_list = list(dict.fromkeys(sample_list))\n",
    "print(sample_list)"
   ]
  },
  {
   "cell_type": "markdown",
   "metadata": {},
   "source": [
    "__4. Find duplicates in a list, using 'set'__\n",
    "\n",
    "Pretty easy if you use set. "
   ]
  },
  {
   "cell_type": "code",
   "execution_count": 20,
   "metadata": {},
   "outputs": [
    {
     "output_type": "execute_result",
     "data": {
      "text/plain": "{1, 4, 5, 7, 'alpha', 'tango'}"
     },
     "metadata": {},
     "execution_count": 20
    }
   ],
   "source": [
    "def get_multiple_duplicates_elements(argument_list):\n",
    "    return set([x for x in argument_list if argument_list.count(x) > 1])\n",
    "    \n",
    "sample_list = ['alpha', 1, 2, 'bravo', 'alpha', 3, 4, 4, 'tango', 'tango',  5, 5, 6,  'element', 1, 7, 7]\n",
    "get_multiple_duplicates_elements(sample_list)"
   ]
  },
  {
   "cell_type": "markdown",
   "metadata": {},
   "source": [
    "__5. Sort a List__\n",
    "\n",
    "This is pretty straightforward: you need to put something in order. "
   ]
  },
  {
   "cell_type": "code",
   "execution_count": 21,
   "metadata": {
    "tags": []
   },
   "outputs": [
    {
     "output_type": "stream",
     "name": "stdout",
     "text": "[0, 1, 1, 1, 2, 3, 5, 5, 7, 9]\n"
    }
   ],
   "source": [
    "sample_list = [1, 0, 5, 7, 9, 5, 2, 1, 3, 1]\n",
    "\n",
    "def sort_list(target_list):\n",
    "    for index in range (1, len(target_list)):\n",
    "        current = target_list[index]\n",
    "        position = index\n",
    "        \n",
    "        while position > 0 and target_list[position-1] > current: \n",
    "            target_list[position] = target_list[position-1]\n",
    "            position -= 1\n",
    "        \n",
    "        target_list[position] = current\n",
    "    \n",
    "    return  target_list\n",
    "        \n",
    "print(sort_list(sample_list))"
   ]
  },
  {
   "cell_type": "markdown",
   "metadata": {},
   "source": [
    "Sort an array is the same thing. "
   ]
  },
  {
   "cell_type": "code",
   "execution_count": 22,
   "metadata": {
    "tags": []
   },
   "outputs": [
    {
     "output_type": "stream",
     "name": "stdout",
     "text": "[0. 1. 1. 1. 2. 3. 5. 5. 7. 9.]\n"
    }
   ],
   "source": [
    "unsorted_array = np.array([1, 0, 5, 7, 9, 5, 2, 1, 3, 1], dtype=float)\n",
    "\n",
    "def sort_list(target_list):\n",
    "    for index in range (1, len(target_list)):\n",
    "        current = target_list[index]\n",
    "        position = index\n",
    "        \n",
    "        while position > 0 and target_list[position-1] > current: \n",
    "            target_list[position] = target_list[position-1]\n",
    "            position -= 1\n",
    "        \n",
    "        target_list[position] = current\n",
    "    \n",
    "    return  target_list\n",
    "        \n",
    "print(sort_list(unsorted_array))"
   ]
  },
  {
   "cell_type": "markdown",
   "metadata": {},
   "source": [
    "So. \n",
    "\n",
    "Lastly. \n",
    "\n",
    "Finally. \n",
    "\n",
    "For me, the most tricky one: \n",
    "\n",
    "__6. Find all pair of an integer array whose sum is equal to a given number__"
   ]
  },
  {
   "cell_type": "markdown",
   "metadata": {},
   "source": [
    "This one is very hard. Not to do, but to realize. \n",
    "\n",
    "Imagine you have a list of numeric elements. Someone give you a number and you need to know if there two numbers in yout list that, together, will give you that exact number. \n",
    "\n",
    "If this in the problem, you have many solutions: 1) choose one number and see if any other matches; 2) sum all numbers and see if there are any matches; 3) Compare the first with the last, and so on... \n",
    "\n",
    "The best solution to this (for me) was design in this page: https://www.w3resource.com/python-exercises/class-exercises/python-class-exercise-5.php\n",
    "        \n",
    "Here is their solution:"
   ]
  },
  {
   "cell_type": "code",
   "execution_count": 23,
   "metadata": {
    "tags": []
   },
   "outputs": [
    {
     "output_type": "stream",
     "name": "stdout",
     "text": "index1=3, index2=5\n"
    }
   ],
   "source": [
    "class py_solution:\n",
    "    def twoSum(self, nums, target):\n",
    "        lookup = {}\n",
    "        for i, num in enumerate(nums):\n",
    "            if target - num in lookup:\n",
    "                return (lookup[target - num], i )\n",
    "            lookup[num] = i\n",
    "            \n",
    "print(\"index1=%d, index2=%d\" % py_solution().twoSum((10,20,10,40,50,60,70),100))"
   ]
  },
  {
   "cell_type": "markdown",
   "metadata": {},
   "source": [
    "The basic solution is: you put in a basket every number that is lower than the target and check them. Simple, right? \n",
    "\n",
    "But if you give a number that don't have a match?\n",
    "\n",
    "Try it and see what happens. \n",
    "\n",
    "Another solution that i like most is this one: https://cppsecrets.com/users/859710057545452565764103109971051084699111109/Python-program-to-find-all-pairs-of-an-integer-array-whose-sum-is-equal-to-a-given-number.php\n",
    "\n",
    "I made few adjustments for readability:"
   ]
  },
  {
   "cell_type": "code",
   "execution_count": 24,
   "metadata": {},
   "outputs": [
    {
     "output_type": "error",
     "ename": "ValueError",
     "evalue": "invalid literal for int() with base 10: ''",
     "traceback": [
      "\u001b[1;31m---------------------------------------------------------------------------\u001b[0m",
      "\u001b[1;31mValueError\u001b[0m                                Traceback (most recent call last)",
      "\u001b[1;32m<ipython-input-24-e939cdba9f27>\u001b[0m in \u001b[0;36m<module>\u001b[1;34m\u001b[0m\n\u001b[0;32m     29\u001b[0m \u001b[0msample_list\u001b[0m \u001b[1;33m=\u001b[0m \u001b[1;33m[\u001b[0m\u001b[1;36m1\u001b[0m\u001b[1;33m,\u001b[0m \u001b[1;36m0\u001b[0m\u001b[1;33m,\u001b[0m \u001b[1;36m5\u001b[0m\u001b[1;33m,\u001b[0m \u001b[1;36m7\u001b[0m\u001b[1;33m,\u001b[0m \u001b[1;36m9\u001b[0m\u001b[1;33m,\u001b[0m \u001b[1;36m5\u001b[0m\u001b[1;33m,\u001b[0m \u001b[1;36m2\u001b[0m\u001b[1;33m,\u001b[0m \u001b[1;36m1\u001b[0m\u001b[1;33m,\u001b[0m \u001b[1;36m3\u001b[0m\u001b[1;33m,\u001b[0m \u001b[1;36m1\u001b[0m\u001b[1;33m,\u001b[0m \u001b[1;36m1\u001b[0m\u001b[1;33m,\u001b[0m \u001b[1;36m5\u001b[0m\u001b[1;33m,\u001b[0m \u001b[1;36m7\u001b[0m\u001b[1;33m,\u001b[0m \u001b[1;33m-\u001b[0m\u001b[1;36m1\u001b[0m\u001b[1;33m,\u001b[0m \u001b[1;36m5\u001b[0m\u001b[1;33m,\u001b[0m \u001b[1;36m4\u001b[0m\u001b[1;33m,\u001b[0m \u001b[1;36m6\u001b[0m\u001b[1;33m,\u001b[0m \u001b[1;36m8\u001b[0m\u001b[1;33m]\u001b[0m\u001b[1;33m\u001b[0m\u001b[1;33m\u001b[0m\u001b[0m\n\u001b[0;32m     30\u001b[0m \u001b[1;33m\u001b[0m\u001b[0m\n\u001b[1;32m---> 31\u001b[1;33m \u001b[0mfind_pairs_to_a_number\u001b[0m\u001b[1;33m(\u001b[0m\u001b[0msample_list\u001b[0m\u001b[1;33m)\u001b[0m\u001b[1;33m\u001b[0m\u001b[1;33m\u001b[0m\u001b[0m\n\u001b[0m",
      "\u001b[1;32m<ipython-input-24-e939cdba9f27>\u001b[0m in \u001b[0;36mfind_pairs_to_a_number\u001b[1;34m(argument_list)\u001b[0m\n\u001b[0;32m     19\u001b[0m \u001b[1;33m\u001b[0m\u001b[0m\n\u001b[0;32m     20\u001b[0m \u001b[1;32mdef\u001b[0m \u001b[0mfind_pairs_to_a_number\u001b[0m\u001b[1;33m(\u001b[0m\u001b[0margument_list\u001b[0m\u001b[1;33m)\u001b[0m\u001b[1;33m:\u001b[0m\u001b[1;33m\u001b[0m\u001b[1;33m\u001b[0m\u001b[0m\n\u001b[1;32m---> 21\u001b[1;33m     \u001b[0msum\u001b[0m \u001b[1;33m=\u001b[0m \u001b[0mint\u001b[0m\u001b[1;33m(\u001b[0m\u001b[0minput\u001b[0m\u001b[1;33m(\u001b[0m\u001b[1;34m\"Enter the sum for array elements: \"\u001b[0m\u001b[1;33m)\u001b[0m\u001b[1;33m)\u001b[0m\u001b[1;33m\u001b[0m\u001b[1;33m\u001b[0m\u001b[0m\n\u001b[0m\u001b[0;32m     22\u001b[0m \u001b[1;33m\u001b[0m\u001b[0m\n\u001b[0;32m     23\u001b[0m     \u001b[1;31m#\"n\" contains the length of array\u001b[0m\u001b[1;33m\u001b[0m\u001b[1;33m\u001b[0m\u001b[1;33m\u001b[0m\u001b[0m\n",
      "\u001b[1;31mValueError\u001b[0m: invalid literal for int() with base 10: ''"
     ]
    }
   ],
   "source": [
    "class Pairs():\n",
    "\n",
    "    #constructor\n",
    "    def __init__(self, sum, n, arr ):\n",
    "        self.sum = sum\n",
    "        self.n = n\n",
    "        self.arr = arr\n",
    "        \n",
    "    #function finds the pairs for the passed array\n",
    "    def find_pairs(self):\n",
    "        \n",
    "        #loop to print the pairs\n",
    "        #after checking\n",
    "        for i in range(0, self.n):\n",
    "            for j in range(i+1, self.n):\n",
    "                if (self.arr[i] + self.arr[j] == self.sum):\n",
    "                    #returns pairs in array from 0  to n-1\n",
    "                    print(\"(\", self.arr[i], \",\", \" \", self.arr[j], \")\", sep = \"\")\n",
    "\n",
    "def find_pairs_to_a_number(argument_list):\n",
    "    sum = int(input(\"Enter the sum for array elements: \"))\n",
    "\n",
    "    #\"n\" contains the length of array\n",
    "    n = len(argument_list)\n",
    "    #sum, n, and arr is passed to \n",
    "    obj_Pairs = Pairs(sum, n, argument_list)\n",
    "    obj_Pairs.find_pairs()\n",
    "\n",
    "sample_list = [1, 0, 5, 7, 9, 5, 2, 1, 3, 1, 1, 5, 7, -1, 5, 4, 6, 8]\n",
    "\n",
    "find_pairs_to_a_number(sample_list)"
   ]
  },
  {
   "cell_type": "markdown",
   "metadata": {},
   "source": [
    "Pretty cool, huh? \n",
    "\n",
    "And that is it for now. \n",
    "\n",
    "I try compile the best solutions. Some stuff i did think was not that great, and there are better solution for _for your case_ out there. \n",
    "\n",
    "I will certainly improve this so keep checking back.\n",
    "\n",
    "Try to keep your code simple, try to drink more water and keep studing. \n",
    "\n",
    "__Thanks for reading.__"
   ]
  }
 ],
 "metadata": {
  "kernelspec": {
   "display_name": "Python 3",
   "language": "python",
   "name": "python3"
  },
  "language_info": {
   "codemirror_mode": {
    "name": "ipython",
    "version": 3
   },
   "file_extension": ".py",
   "mimetype": "text/x-python",
   "name": "python",
   "nbconvert_exporter": "python",
   "pygments_lexer": "ipython3",
   "version": "3.8.3-final"
  }
 },
 "nbformat": 4,
 "nbformat_minor": 4
}